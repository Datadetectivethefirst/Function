{
 "cells": [
  {
   "cell_type": "code",
   "execution_count": 5,
   "id": "a64d9f85",
   "metadata": {},
   "outputs": [],
   "source": [
    "#Function"
   ]
  },
  {
   "cell_type": "code",
   "execution_count": 8,
   "id": "9413d080",
   "metadata": {},
   "outputs": [
    {
     "name": "stdout",
     "output_type": "stream",
     "text": [
      "Hi Sola!\n",
      "Hi Bola!\n",
      "Hi Tina!\n",
      "Hi Nancy!\n"
     ]
    }
   ],
   "source": [
    "def greet(User_name):\n",
    "    print(\"Hi \" + User_name + \"!\")\n",
    "greet (\"Sola\")\n",
    "greet (\"Bola\")\n",
    "greet (\"Tina\")\n",
    "greet (\"Nancy\")"
   ]
  },
  {
   "cell_type": "code",
   "execution_count": 17,
   "id": "1eedcf17",
   "metadata": {},
   "outputs": [
    {
     "name": "stdout",
     "output_type": "stream",
     "text": [
      "Welcome to the world of Dogs\n",
      "Welcome to the world of Goats\n",
      "Welcome to the world of Lion\n",
      "Welcome to the world of Tiger\n",
      "Welcome to the world of Cats\n"
     ]
    }
   ],
   "source": [
    "def name(animal):\n",
    "    print(\"Welcome \" + \"to \"+ \"the \" + \"world \" + \"of \" + animal)\n",
    "\n",
    "name (\"Dogs\")\n",
    "name (\"Goats\")\n",
    "name (\"Lion\")\n",
    "name (\"Tiger\")\n",
    "name (\"Cats\")"
   ]
  },
  {
   "cell_type": "code",
   "execution_count": 31,
   "id": "cae521ea",
   "metadata": {},
   "outputs": [
    {
     "data": {
      "text/plain": [
       "185"
      ]
     },
     "execution_count": 31,
     "metadata": {},
     "output_type": "execute_result"
    }
   ],
   "source": [
    "def Edwin(a, b, c,d,e,f,g):\n",
    "    return a+b+c+d+e+f+g\n",
    "\n",
    "Edwin(10,20,5,16,46,88,0)"
   ]
  },
  {
   "cell_type": "code",
   "execution_count": 30,
   "id": "2e0149df",
   "metadata": {},
   "outputs": [
    {
     "name": "stdout",
     "output_type": "stream",
     "text": [
      "15\n"
     ]
    }
   ],
   "source": [
    "def Sum(x,y):\n",
    "    return x+y\n",
    "def multiply(m,n):\n",
    "    return m*n\n",
    "result = multiply(3,4) + Sum(1,2)\n",
    "print(result)"
   ]
  },
  {
   "cell_type": "code",
   "execution_count": null,
   "id": "357bea43",
   "metadata": {},
   "outputs": [],
   "source": []
  }
 ],
 "metadata": {
  "kernelspec": {
   "display_name": "Python 3 (ipykernel)",
   "language": "python",
   "name": "python3"
  },
  "language_info": {
   "codemirror_mode": {
    "name": "ipython",
    "version": 3
   },
   "file_extension": ".py",
   "mimetype": "text/x-python",
   "name": "python",
   "nbconvert_exporter": "python",
   "pygments_lexer": "ipython3",
   "version": "3.10.9"
  }
 },
 "nbformat": 4,
 "nbformat_minor": 5
}
